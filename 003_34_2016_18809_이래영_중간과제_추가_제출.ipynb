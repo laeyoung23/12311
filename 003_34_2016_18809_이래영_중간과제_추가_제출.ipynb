{
  "nbformat": 4,
  "nbformat_minor": 0,
  "metadata": {
    "colab": {
      "provenance": [],
      "authorship_tag": "ABX9TyPvHYmNBuQBnLnTP7hcS/JD",
      "include_colab_link": true
    },
    "kernelspec": {
      "name": "python3",
      "display_name": "Python 3"
    },
    "language_info": {
      "name": "python"
    }
  },
  "cells": [
    {
      "cell_type": "markdown",
      "metadata": {
        "id": "view-in-github",
        "colab_type": "text"
      },
      "source": [
        "<a href=\"https://colab.research.google.com/github/laeyoung23/12311/blob/main/003_34_2016_18809_%EC%9D%B4%EB%9E%98%EC%98%81_%EC%A4%91%EA%B0%84%EA%B3%BC%EC%A0%9C_%EC%B6%94%EA%B0%80_%EC%A0%9C%EC%B6%9C.ipynb\" target=\"_parent\"><img src=\"https://colab.research.google.com/assets/colab-badge.svg\" alt=\"Open In Colab\"/></a>"
      ]
    },
    {
      "cell_type": "markdown",
      "metadata": {
        "id": "1b-_QyCgEc46"
      },
      "source": [
        "#중간과제 추가 제출\n",
        "\n",
        "2020-12223 장하영 학생의 제작 요청을 보고 만든 프로그램 입니다."
      ]
    },
    {
      "cell_type": "markdown",
      "metadata": {
        "id": "O-lllmw6EX5q"
      },
      "source": [
        "#배달음식주문\n",
        "\n"
      ]
    },
    {
      "cell_type": "markdown",
      "metadata": {
        "id": "0NHfVDa2EQmE"
      },
      "source": [
        "#배경지식 설명"
      ]
    },
    {
      "cell_type": "markdown",
      "metadata": {
        "id": "K-mV8FOLEThR"
      },
      "source": [
        "1. 서초구에는 5개의 동이 있습니다.\n",
        "[서초구, 잠원동, 반포동, 방배동, 양재동]\n",
        "\n",
        "2. 서초구에는 1개의 치킨집이 있습니다.\n",
        "[bhc]\n",
        "\n",
        "3. 주문하고 음식이 도착하기까지 걸리는 시간은 (기존 배달비/100)분입니다.\n",
        "\n",
        "4. 기타 유의사항을 참고해 주시기 바랍니다.\n",
        "\n",
        "5. 명시되지 않은 문구는 자유롭게 설정 가능합니다."
      ]
    },
    {
      "cell_type": "markdown",
      "metadata": {
        "id": "P_ena3TCEKVa"
      },
      "source": [
        "#선택 옵션 설명"
      ]
    },
    {
      "cell_type": "markdown",
      "metadata": {
        "id": "dOrT3e-wXESa"
      },
      "source": [
        "**주문하시겠습니까?** (네 / 아니오)\n",
        "\n",
        "**이름:**\n",
        "\n",
        "**위치:** (서초동 / 잠원동 / 반포동 / 방배동 / 양재동)\n",
        "\n",
        "**가게 이름:** (bhc)\n",
        "\n",
        "**메뉴:** (뿌링클 / 맛초킹 / 포테킹)\n",
        "\n",
        "**수량:** (1 이상)\n",
        "\n",
        "주문 완료 시, 아래의 문구가 프린트 되어야 함\n",
        "\n",
        "**OOO님,**\n",
        "\n",
        "**주문하신 음식 : bhc – 뿌링클 2개, 맛초킹 1개**\n",
        "\n",
        "**결제 금액 : 배달료 포함 총 18,000원입니다**\n",
        "\n",
        "**주문하신 음식은 10분 내 도착 예정입니다**"
      ]
    },
    {
      "cell_type": "markdown",
      "metadata": {
        "id": "dtkRjvZVEHAy"
      },
      "source": [
        "# 가게 메뉴판"
      ]
    },
    {
      "cell_type": "markdown",
      "metadata": {
        "id": "CFeJud3EXJaT"
      },
      "source": [
        "![image.png](data:image/png;base64,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)"
      ]
    },
    {
      "cell_type": "markdown",
      "metadata": {
        "id": "CvVYlD53XVc6"
      },
      "source": [
        "# 단일 메뉴만 주문 가능한 프로그램"
      ]
    },
    {
      "cell_type": "code",
      "metadata": {
        "colab": {
          "base_uri": "https://localhost:8080/",
          "height": 413
        },
        "id": "aYv_IFqSO-8j",
        "outputId": "98063406-da59-471b-9850-58e00a02ba61"
      },
      "source": [
        "# 단일 메뉴만 주문 가능한 프로그램\n",
        "\n",
        "print('배달음식 주문 프로그램')\n",
        "\n",
        "order = input('주문하시겠습니까?(네 / 아니오): ')\n",
        "\n",
        "if order =='네':\n",
        "  name = input('이름 : ')\n",
        "  location = input('위치 (매장방문 / 서초동 / 잠원동 / 반포동 / 방배동 / 양재동) : ') #매장방문 추가\n",
        "  if location == '서초동':\n",
        "    dp = 1000\n",
        "  elif location == '잠원동':\n",
        "    dp = 2000\n",
        "  elif location == '반포동':\n",
        "    dp = 3000\n",
        "  elif location == '방배동':\n",
        "    dp = 4000\n",
        "  elif location == '양재동':\n",
        "    dp = 5000\n",
        "  else:\n",
        "    dp = 0\n",
        "  store = input('가게이름 (bhc) : ')\n",
        "  menu = input('메뉴 : (뿌링클 / 맛초킹 / 포테킹) : ')\n",
        "  if menu == '뿌링클':\n",
        "    price = 17000\n",
        "  elif menu == '맛초킹':\n",
        "    price = 18000\n",
        "  elif menu == '포테킹':\n",
        "    price = 19000\n",
        "  count = int(input('수량 : (1 이상) : '))\n",
        "  total = dp + (price * count)\n",
        "  if total >= 20000 :\n",
        "    total = total - 1000\n",
        "  else:\n",
        "    total\n",
        "  print()\n",
        "  print('**************************************************')\n",
        "  print()\n",
        "  print(name,'님,')\n",
        "  print('주문하신 음식:',store,menu,count,'개')\n",
        "  print('결제금액 : 배달료 포함 총',total,'원 입니다.')\n",
        "  print('주문하신 음식은',dp/100,'분 내에 도착 예정입니다.')\n",
        "else :\n",
        "  print('주문프로그램을 종료합니다.')"
      ],
      "execution_count": 3,
      "outputs": [
        {
          "output_type": "stream",
          "name": "stdout",
          "text": [
            "배달음식 주문 프로그램\n"
          ]
        },
        {
          "output_type": "error",
          "ename": "KeyboardInterrupt",
          "evalue": "ignored",
          "traceback": [
            "\u001b[0;31m---------------------------------------------------------------------------\u001b[0m",
            "\u001b[0;31mKeyboardInterrupt\u001b[0m                         Traceback (most recent call last)",
            "\u001b[0;32m<ipython-input-3-3ee089487fd3>\u001b[0m in \u001b[0;36m<cell line: 5>\u001b[0;34m()\u001b[0m\n\u001b[1;32m      3\u001b[0m \u001b[0mprint\u001b[0m\u001b[0;34m(\u001b[0m\u001b[0;34m'배달음식 주문 프로그램'\u001b[0m\u001b[0;34m)\u001b[0m\u001b[0;34m\u001b[0m\u001b[0;34m\u001b[0m\u001b[0m\n\u001b[1;32m      4\u001b[0m \u001b[0;34m\u001b[0m\u001b[0m\n\u001b[0;32m----> 5\u001b[0;31m \u001b[0morder\u001b[0m \u001b[0;34m=\u001b[0m \u001b[0minput\u001b[0m\u001b[0;34m(\u001b[0m\u001b[0;34m'주문하시겠습니까?(네 / 아니오): '\u001b[0m\u001b[0;34m)\u001b[0m\u001b[0;34m\u001b[0m\u001b[0;34m\u001b[0m\u001b[0m\n\u001b[0m\u001b[1;32m      6\u001b[0m \u001b[0;34m\u001b[0m\u001b[0m\n\u001b[1;32m      7\u001b[0m \u001b[0;32mif\u001b[0m \u001b[0morder\u001b[0m \u001b[0;34m==\u001b[0m\u001b[0;34m'네'\u001b[0m\u001b[0;34m:\u001b[0m\u001b[0;34m\u001b[0m\u001b[0;34m\u001b[0m\u001b[0m\n",
            "\u001b[0;32m/usr/local/lib/python3.10/dist-packages/ipykernel/kernelbase.py\u001b[0m in \u001b[0;36mraw_input\u001b[0;34m(self, prompt)\u001b[0m\n\u001b[1;32m    849\u001b[0m                 \u001b[0;34m\"raw_input was called, but this frontend does not support input requests.\"\u001b[0m\u001b[0;34m\u001b[0m\u001b[0;34m\u001b[0m\u001b[0m\n\u001b[1;32m    850\u001b[0m             )\n\u001b[0;32m--> 851\u001b[0;31m         return self._input_request(str(prompt),\n\u001b[0m\u001b[1;32m    852\u001b[0m             \u001b[0mself\u001b[0m\u001b[0;34m.\u001b[0m\u001b[0m_parent_ident\u001b[0m\u001b[0;34m,\u001b[0m\u001b[0;34m\u001b[0m\u001b[0;34m\u001b[0m\u001b[0m\n\u001b[1;32m    853\u001b[0m             \u001b[0mself\u001b[0m\u001b[0;34m.\u001b[0m\u001b[0m_parent_header\u001b[0m\u001b[0;34m,\u001b[0m\u001b[0;34m\u001b[0m\u001b[0;34m\u001b[0m\u001b[0m\n",
            "\u001b[0;32m/usr/local/lib/python3.10/dist-packages/ipykernel/kernelbase.py\u001b[0m in \u001b[0;36m_input_request\u001b[0;34m(self, prompt, ident, parent, password)\u001b[0m\n\u001b[1;32m    893\u001b[0m             \u001b[0;32mexcept\u001b[0m \u001b[0mKeyboardInterrupt\u001b[0m\u001b[0;34m:\u001b[0m\u001b[0;34m\u001b[0m\u001b[0;34m\u001b[0m\u001b[0m\n\u001b[1;32m    894\u001b[0m                 \u001b[0;31m# re-raise KeyboardInterrupt, to truncate traceback\u001b[0m\u001b[0;34m\u001b[0m\u001b[0;34m\u001b[0m\u001b[0m\n\u001b[0;32m--> 895\u001b[0;31m                 \u001b[0;32mraise\u001b[0m \u001b[0mKeyboardInterrupt\u001b[0m\u001b[0;34m(\u001b[0m\u001b[0;34m\"Interrupted by user\"\u001b[0m\u001b[0;34m)\u001b[0m \u001b[0;32mfrom\u001b[0m \u001b[0;32mNone\u001b[0m\u001b[0;34m\u001b[0m\u001b[0;34m\u001b[0m\u001b[0m\n\u001b[0m\u001b[1;32m    896\u001b[0m             \u001b[0;32mexcept\u001b[0m \u001b[0mException\u001b[0m \u001b[0;32mas\u001b[0m \u001b[0me\u001b[0m\u001b[0;34m:\u001b[0m\u001b[0;34m\u001b[0m\u001b[0;34m\u001b[0m\u001b[0m\n\u001b[1;32m    897\u001b[0m                 \u001b[0mself\u001b[0m\u001b[0;34m.\u001b[0m\u001b[0mlog\u001b[0m\u001b[0;34m.\u001b[0m\u001b[0mwarning\u001b[0m\u001b[0;34m(\u001b[0m\u001b[0;34m\"Invalid Message:\"\u001b[0m\u001b[0;34m,\u001b[0m \u001b[0mexc_info\u001b[0m\u001b[0;34m=\u001b[0m\u001b[0;32mTrue\u001b[0m\u001b[0;34m)\u001b[0m\u001b[0;34m\u001b[0m\u001b[0;34m\u001b[0m\u001b[0m\n",
            "\u001b[0;31mKeyboardInterrupt\u001b[0m: Interrupted by user"
          ]
        }
      ]
    },
    {
      "cell_type": "markdown",
      "metadata": {
        "id": "pGKS-U3gDj-6"
      },
      "source": [
        "# 추가주문이 가능한 프로그램\n",
        "\n",
        "\n"
      ]
    },
    {
      "cell_type": "code",
      "metadata": {
        "colab": {
          "base_uri": "https://localhost:8080/"
        },
        "id": "YuxFp2ZiZD8C",
        "outputId": "4c22a003-8719-4f07-b038-27eb71d4e4c5"
      },
      "source": [
        "# 추가 주문을 할 수 있는 프로그램\n",
        "print('배달음식 주문 프로그램')\n",
        "\n",
        "order = input('주문하시겠습니까?(네 / 아니오): ')\n",
        "\n",
        "if order =='네':\n",
        "  name = input('이름 : ')\n",
        "  location = input('위치 (매장방문 / 서초동 / 잠원동 / 반포동 / 방배동 / 양재동) : ') #매장방문 추가\n",
        "  if location == '서초동':\n",
        "    dp = 1000\n",
        "  elif location == '잠원동':\n",
        "    dp = 2000\n",
        "  elif location == '반포동':\n",
        "    dp = 3000\n",
        "  elif location == '방배동':\n",
        "    dp = 4000\n",
        "  elif location == '양재동':\n",
        "    dp = 5000\n",
        "  else:\n",
        "    dp = 0\n",
        "  store = input('가게이름 (bhc) : ')\n",
        "  if store == 'bhc':\n",
        "    menu = input('메뉴 : (뿌링클 / 맛초킹 / 포테킹) : ')\n",
        "  if menu == '뿌링클':\n",
        "    price = 17000\n",
        "  elif menu == '맛초킹':\n",
        "    price = 18000\n",
        "  elif menu == '포테킹':\n",
        "    price = 19000\n",
        "  count = int(input('수량 : (1 이상) : '))\n",
        "  total = dp + (price * count)\n",
        "  if total >= 20000 :\n",
        "     total = total - 1000\n",
        "  if count >= 0:\n",
        "    print()\n",
        "    re = input('계속 주문은 메뉴이름을(뿌링클, 맛초킹, 포테킹), 지불은 (지불)을 입력하시오 : ')\n",
        "    if re == '지불' :\n",
        "      print()\n",
        "      print('주문이 완료되었습니다.')\n",
        "      print('**************************************************')\n",
        "      print()\n",
        "      print(name,'님,')\n",
        "      print('주문하신 음식:',store,menu,count,'개')\n",
        "      print('결제금액 : 배달료 포함 총',total,'원 입니다.')\n",
        "      print('주문하신 음식은',dp/100,'분 내에 도착 예정입니다.')\n",
        "\n",
        "    if re == '뿌링클':\n",
        "      reprice = 17000\n",
        "      recount = int(input('수량 : (1 이상) : '))\n",
        "      rere = input('계속 주문은 메뉴이름을(뿌링클, 맛초킹, 포테킹), 지불은 (지불)을 입력하시오 : ')\n",
        "      if rere == '뿌링클':\n",
        "        rereprice = 17000\n",
        "        rerecount = int(input('수량 : (1 이상) : '))\n",
        "        total = dp + (price * count) + (reprice * recount)+(rereprice*rerecount)\n",
        "        if total >= 20000 :\n",
        "          total = total - 1000\n",
        "        print()\n",
        "        print('주문이 완료되었습니다.')\n",
        "        print('**************************************************')\n",
        "        print()\n",
        "        print(name,'님,')\n",
        "        print('주문하신 음식:',store,menu,count,'개', store,re,recount,'개', store, rere, rerecount,'개')\n",
        "        print('결제금액 : 배달료 포함 총',total,'원 입니다.')\n",
        "        print('주문하신 음식은',dp/100,'분 내에 도착 예정입니다.')\n",
        "      elif rere == '맛초킹':\n",
        "        rereprice = 18000\n",
        "        rerecount = int(input('수량 : (1 이상) : '))\n",
        "        total = dp + (price * count) + (reprice * recount)+(rereprice*rerecount)\n",
        "        if total >= 20000 :\n",
        "          total = total - 1000\n",
        "        print()\n",
        "        print('주문이 완료되었습니다.')\n",
        "        print('**************************************************')\n",
        "        print()\n",
        "        print(name,'님,')\n",
        "        print('주문하신 음식:',store,menu,count,'개', store,re,recount,'개', store, rere, rerecount,'개')\n",
        "        print('결제금액 : 배달료 포함 총',total,'원 입니다.')\n",
        "        print('주문하신 음식은',dp/100,'분 내에 도착 예정입니다.')\n",
        "\n",
        "      elif rere == '포테킹':\n",
        "        rereprice = 19000\n",
        "        rerecount = int(input('수량 : (1 이상) : '))\n",
        "\n",
        "        total = dp + (price * count) + (reprice * recount)+(rereprice*rerecount)\n",
        "        if total >= 20000 :\n",
        "          total = total - 1000\n",
        "        print()\n",
        "        print('주문이 완료되었습니다.')\n",
        "        print('**************************************************')\n",
        "        print()\n",
        "        print(name,'님,')\n",
        "        print('주문하신 음식:',store,menu,count,'개', store,re,recount,'개', store, rere, rerecount,'개')\n",
        "        print('결제금액 : 배달료 포함 총',total,'원 입니다.')\n",
        "        print('주문하신 음식은',dp/100,'분 내에 도착 예정입니다.')\n",
        "      else :\n",
        "        total = dp + (price * count) + (reprice * recount)\n",
        "        if total >= 20000 :\n",
        "          total = total - 1000\n",
        "        else :\n",
        "          total\n",
        "        print()\n",
        "        print('주문이 완료되었습니다.')\n",
        "        print('**************************************************')\n",
        "        print()\n",
        "        print(name,'님,')\n",
        "        print('주문하신 음식:',store,menu,count,'개', store,re,recount,'개')\n",
        "        print('결제금액 : 배달료 포함 총',total,'원 입니다.')\n",
        "        print('주문하신 음식은',dp/100,'분 내에 도착 예정입니다.')\n",
        "\n",
        "    elif re == '맛초킹':\n",
        "      reprice = 18000\n",
        "      recount = int(input('수량 : (1 이상) : '))\n",
        "      rere = input('계속 주문은 메뉴이름을(뿌링클, 맛초킹, 포테킹), 지불은 (지불)을 입력하시오 : ')\n",
        "\n",
        "      if rere == '뿌링클':\n",
        "        rereprice = 17000\n",
        "        rerecount = int(input('수량 : (1 이상) : '))\n",
        "        total = dp + (price * count) + (reprice * recount)+(rereprice*rerecount)\n",
        "        if total >= 20000 :\n",
        "          total = total - 1000\n",
        "        print()\n",
        "        print('주문이 완료되었습니다.')\n",
        "        print('**************************************************')\n",
        "        print()\n",
        "        print(name,'님,')\n",
        "        print('주문하신 음식:',store,menu,count,'개', store,re,recount,'개', store, rere, rerecount,'개')\n",
        "        print('결제금액 : 배달료 포함 총',total,'원 입니다.')\n",
        "        print('주문하신 음식은',dp/100,'분 내에 도착 예정입니다.')\n",
        "      elif rere == '맛초킹':\n",
        "        rereprice = 18000\n",
        "        rerecount = int(input('수량 : (1 이상) : '))\n",
        "        total = dp + (price * count) + (reprice * recount)+(rereprice*rerecount)\n",
        "        if total >= 20000 :\n",
        "          total = total - 1000\n",
        "        print()\n",
        "        print('주문이 완료되었습니다.')\n",
        "        print('**************************************************')\n",
        "        print()\n",
        "        print(name,'님,')\n",
        "        print('주문하신 음식:',store,menu,count,'개', store,re,recount,'개', store, rere, rerecount,'개')\n",
        "        print('결제금액 : 배달료 포함 총',total,'원 입니다.')\n",
        "        print('주문하신 음식은',dp/100,'분 내에 도착 예정입니다.')\n",
        "      elif rere == '포테킹':\n",
        "        rereprice = 19000\n",
        "        rerecount = int(input('수량 : (1 이상) : '))\n",
        "        total = dp + (price * count) + (reprice * recount)+(rereprice*rerecount)\n",
        "        if total >= 20000 :\n",
        "          total = total - 1000\n",
        "        total = dp + (price * count) + (reprice * recount)+(rereprice*rerecount)\n",
        "        if total >= 20000 :\n",
        "          total = total - 1000\n",
        "        print()\n",
        "        print('주문이 완료되었습니다.')\n",
        "        print('**************************************************')\n",
        "        print()\n",
        "        print(name,'님,')\n",
        "        print('주문하신 음식:',store,menu,count,'개', store,re,recount,'개', store, rere, rerecount,'개')\n",
        "        print('결제금액 : 배달료 포함 총',total,'원 입니다.')\n",
        "        print('주문하신 음식은',dp/100,'분 내에 도착 예정입니다.')\n",
        "      else :\n",
        "        total = dp + (price * count) + (reprice * recount)\n",
        "        if total >= 20000 :\n",
        "          total = total - 1000\n",
        "        else :\n",
        "          total\n",
        "        print()\n",
        "        print('주문이 완료되었습니다.')\n",
        "        print('**************************************************')\n",
        "        print()\n",
        "        print(name,'님,')\n",
        "        print('주문하신 음식:',store,menu,count,'개', store,re,recount,'개')\n",
        "        print('결제금액 : 배달료 포함 총',total,'원 입니다.')\n",
        "        print('주문하신 음식은',dp/100,'분 내에 도착 예정입니다.')\n",
        "\n",
        "\n",
        "\n",
        "    elif re == '포테킹' :\n",
        "      reprice = 19000\n",
        "      recount = int(input('수량 : (1 이상) : '))\n",
        "      rere = input('계속 주문은 메뉴이름을(뿌링클, 맛초킹, 포테킹), 지불은 (지불)을 입력하시오 : ')\n",
        "      if rere == '뿌링클':\n",
        "        rereprice = 17000\n",
        "        rerecount = int(input('수량 : (1 이상) : '))\n",
        "        total = dp + (price * count) + (reprice * recount)+(rereprice*rerecount)\n",
        "        if total >= 20000 :\n",
        "          total = total - 1000\n",
        "        print()\n",
        "        print('주문이 완료되었습니다.')\n",
        "        print('**************************************************')\n",
        "        print()\n",
        "        print(name,'님,')\n",
        "        print('주문하신 음식:',store,menu,count,'개', store,re,recount,'개', store, rere, rerecount,'개')\n",
        "        print('결제금액 : 배달료 포함 총',total,'원 입니다.')\n",
        "        print('주문하신 음식은',dp/100,'분 내에 도착 예정입니다.')\n",
        "      elif rere == '맛초킹':\n",
        "        rereprice = 18000\n",
        "        rerecount = int(input('수량 : (1 이상) : '))\n",
        "        total = dp + (price * count) + (reprice * recount)+(rereprice*rerecount)\n",
        "        if total >= 20000 :\n",
        "          total = total - 1000\n",
        "        print()\n",
        "        print('주문이 완료되었습니다.')\n",
        "        print('**************************************************')\n",
        "        print()\n",
        "        print(name,'님,')\n",
        "        print('주문하신 음식:',store,menu,count,'개', store,re,recount,'개', store, rere, rerecount,'개')\n",
        "        print('결제금액 : 배달료 포함 총',total,'원 입니다.')\n",
        "        print('주문하신 음식은',dp/100,'분 내에 도착 예정입니다.')\n",
        "\n",
        "      elif rere == '포테킹':\n",
        "        rereprice = 19000\n",
        "        rerecount = int(input('수량 : (1 이상) : '))\n",
        "        total = dp + (price * count) + (reprice * recount)+(rereprice*rerecount)\n",
        "        if total >= 20000 :\n",
        "          total = total - 1000\n",
        "        total = dp + (price * count) + (reprice * recount)+(rereprice*rerecount)\n",
        "        if total >= 20000 :\n",
        "          total = total - 1000\n",
        "        print()\n",
        "        print('주문이 완료되었습니다.')\n",
        "        print('**************************************************')\n",
        "        print()\n",
        "        print(name,'님,')\n",
        "        print('주문하신 음식:',store,menu,count,'개', store,re,recount,'개', store, rere, rerecount,'개')\n",
        "        print('결제금액 : 배달료 포함 총',total,'원 입니다.')\n",
        "        print('주문하신 음식은',dp/100,'분 내에 도착 예정입니다.')\n",
        "      else :\n",
        "        total = dp + (price * count) + (reprice * recount)\n",
        "        if total >= 20000 :\n",
        "          total = total - 1000\n",
        "        else :\n",
        "          total\n",
        "        print()\n",
        "        print('주문이 완료되었습니다.')\n",
        "        print('**************************************************')\n",
        "        print()\n",
        "        print(name,'님,')\n",
        "        print('주문하신 음식:',store,menu,count,'개', store,re,recount,'개')\n",
        "        print('결제금액 : 배달료 포함 총',total,'원 입니다.')\n",
        "        print('주문하신 음식은',dp/100,'분 내에 도착 예정입니다.')\n",
        "\n",
        "\n",
        "\n",
        "\n",
        "      if rere =='지불':\n",
        "        total = dp + (price * count) + (reprice * recount)\n",
        "        if total >= 20000 :\n",
        "          total = total - 1000\n",
        "        print()\n",
        "        print('주문이 완료되었습니다.')\n",
        "        print('**************************************************')\n",
        "        print()\n",
        "        print(name,'님,')\n",
        "        print('주문하신 음식:',store,menu,count,'개', store,re,recount,'개')\n",
        "        print('결제금액 : 배달료 포함 총',total,'원 입니다.')\n",
        "        print('주문하신 음식은',dp/100,'분 내에 도착 예정입니다.')\n",
        "\n",
        "else :\n",
        "  print('주문프로그램을 종료합니다.')"
      ],
      "execution_count": null,
      "outputs": [
        {
          "output_type": "stream",
          "text": [
            "배달음식 주문 프로그램\n",
            "주문하시겠습니까?(네 / 아니오): 네\n",
            "이름 : 이래영\n",
            "위치 (매장방문 / 서초동 / 잠원동 / 반포동 / 방배동 / 양재동) : 서초동\n",
            "가게이름 (bhc) : bhc\n",
            "메뉴 : (뿌링클 / 맛초킹 / 포테킹) : 뿌링클\n",
            "수량 : (1 이상) : 2\n",
            "\n",
            "계속 주문은 메뉴이름을(뿌링클, 맛초킹, 포테킹), 지불은 (지불)을 입력하시오 : 맛초킹\n",
            "수량 : (1 이상) : 3\n",
            "계속 주문은 메뉴이름을(뿌링클, 맛초킹, 포테킹), 지불은 (지불)을 입력하시오 : 포테킹\n",
            "수량 : (1 이상) : 1\n",
            "\n",
            "주문이 완료되었습니다.\n",
            "**************************************************\n",
            "\n",
            "이래영 님,\n",
            "주문하신 음식: bhc 뿌링클 2 개 bhc 맛초킹 3 개 bhc 포테킹 1 개\n",
            "결제금액 : 배달료 포함 총 107000 원 입니다.\n",
            "주문하신 음식은 10.0 분 내에 도착 예정입니다.\n"
          ],
          "name": "stdout"
        }
      ]
    }
  ]
}